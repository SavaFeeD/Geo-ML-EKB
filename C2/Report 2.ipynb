{
 "cells": [
  {
   "cell_type": "code",
   "execution_count": 1,
   "id": "d4ff7235",
   "metadata": {},
   "outputs": [],
   "source": [
    "import os\n",
    "\n",
    "import pandas as pd\n",
    "import numpy as np\n",
    "import collections\n",
    "\n",
    "import json\n",
    "\n",
    "import matplotlib.pyplot as plt\n",
    "import seaborn as sns\n",
    "\n",
    "from datetime import datetime\n",
    "from dateutil import parser\n",
    "\n",
    "from sklearn import preprocessing\n",
    "from tqdm import tqdm\n",
    "\n",
    "from joblib import Parallel, delayed\n",
    "\n",
    "import collections\n",
    "\n",
    "import pickle\n",
    "\n",
    "from sklearn import metrics\n",
    "\n",
    "from sklearn.cluster import KMeans\n",
    "from sklearn.mixture import GaussianMixture\n",
    "from sklearn.cluster import MiniBatchKMeans\n",
    "\n",
    "from sklearn.model_selection import train_test_split\n",
    "\n",
    "import matplotlib.ticker as ticker"
   ]
  },
  {
   "cell_type": "code",
   "execution_count": 2,
   "id": "fbb721df",
   "metadata": {},
   "outputs": [],
   "source": [
    "import warnings\n",
    "warnings.filterwarnings('ignore')"
   ]
  },
  {
   "cell_type": "code",
   "execution_count": 3,
   "id": "8f6aa0c5",
   "metadata": {
    "scrolled": true
   },
   "outputs": [
    {
     "data": {
      "text/html": [
       "<div>\n",
       "<style scoped>\n",
       "    .dataframe tbody tr th:only-of-type {\n",
       "        vertical-align: middle;\n",
       "    }\n",
       "\n",
       "    .dataframe tbody tr th {\n",
       "        vertical-align: top;\n",
       "    }\n",
       "\n",
       "    .dataframe thead th {\n",
       "        text-align: right;\n",
       "    }\n",
       "</style>\n",
       "<table border=\"1\" class=\"dataframe\">\n",
       "  <thead>\n",
       "    <tr style=\"text-align: right;\">\n",
       "      <th></th>\n",
       "      <th>light</th>\n",
       "      <th>region</th>\n",
       "      <th>address</th>\n",
       "      <th>category</th>\n",
       "      <th>datetime</th>\n",
       "      <th>severity</th>\n",
       "      <th>dead_count</th>\n",
       "      <th>injured_count</th>\n",
       "      <th>parent_region</th>\n",
       "      <th>participants_count</th>\n",
       "      <th>...</th>\n",
       "      <th>road_conditions-37</th>\n",
       "      <th>road_conditions-19</th>\n",
       "      <th>road_conditions-40</th>\n",
       "      <th>road_conditions-27</th>\n",
       "      <th>participant_categories-0</th>\n",
       "      <th>participant_categories-5</th>\n",
       "      <th>participant_categories-2</th>\n",
       "      <th>participant_categories-3</th>\n",
       "      <th>participant_categories-4</th>\n",
       "      <th>participant_categories-1</th>\n",
       "    </tr>\n",
       "  </thead>\n",
       "  <tbody>\n",
       "    <tr>\n",
       "      <th>0</th>\n",
       "      <td>2</td>\n",
       "      <td>42</td>\n",
       "      <td>8706</td>\n",
       "      <td>10</td>\n",
       "      <td>2017-09-04 22:15:00</td>\n",
       "      <td>0</td>\n",
       "      <td>0</td>\n",
       "      <td>1</td>\n",
       "      <td>0</td>\n",
       "      <td>2</td>\n",
       "      <td>...</td>\n",
       "      <td>0</td>\n",
       "      <td>0</td>\n",
       "      <td>1</td>\n",
       "      <td>0</td>\n",
       "      <td>0</td>\n",
       "      <td>0</td>\n",
       "      <td>0</td>\n",
       "      <td>0</td>\n",
       "      <td>0</td>\n",
       "      <td>1</td>\n",
       "    </tr>\n",
       "    <tr>\n",
       "      <th>1</th>\n",
       "      <td>4</td>\n",
       "      <td>42</td>\n",
       "      <td>16864</td>\n",
       "      <td>16</td>\n",
       "      <td>2020-09-24 09:30:00</td>\n",
       "      <td>0</td>\n",
       "      <td>0</td>\n",
       "      <td>2</td>\n",
       "      <td>0</td>\n",
       "      <td>3</td>\n",
       "      <td>...</td>\n",
       "      <td>0</td>\n",
       "      <td>0</td>\n",
       "      <td>0</td>\n",
       "      <td>0</td>\n",
       "      <td>0</td>\n",
       "      <td>0</td>\n",
       "      <td>1</td>\n",
       "      <td>0</td>\n",
       "      <td>0</td>\n",
       "      <td>1</td>\n",
       "    </tr>\n",
       "    <tr>\n",
       "      <th>2</th>\n",
       "      <td>4</td>\n",
       "      <td>42</td>\n",
       "      <td>8706</td>\n",
       "      <td>9</td>\n",
       "      <td>2021-04-20 18:55:00</td>\n",
       "      <td>0</td>\n",
       "      <td>0</td>\n",
       "      <td>1</td>\n",
       "      <td>0</td>\n",
       "      <td>2</td>\n",
       "      <td>...</td>\n",
       "      <td>0</td>\n",
       "      <td>0</td>\n",
       "      <td>1</td>\n",
       "      <td>0</td>\n",
       "      <td>0</td>\n",
       "      <td>1</td>\n",
       "      <td>1</td>\n",
       "      <td>0</td>\n",
       "      <td>0</td>\n",
       "      <td>1</td>\n",
       "    </tr>\n",
       "    <tr>\n",
       "      <th>3</th>\n",
       "      <td>4</td>\n",
       "      <td>42</td>\n",
       "      <td>15435</td>\n",
       "      <td>9</td>\n",
       "      <td>2021-04-28 12:20:00</td>\n",
       "      <td>0</td>\n",
       "      <td>0</td>\n",
       "      <td>1</td>\n",
       "      <td>0</td>\n",
       "      <td>2</td>\n",
       "      <td>...</td>\n",
       "      <td>0</td>\n",
       "      <td>0</td>\n",
       "      <td>1</td>\n",
       "      <td>0</td>\n",
       "      <td>0</td>\n",
       "      <td>1</td>\n",
       "      <td>0</td>\n",
       "      <td>0</td>\n",
       "      <td>0</td>\n",
       "      <td>1</td>\n",
       "    </tr>\n",
       "    <tr>\n",
       "      <th>4</th>\n",
       "      <td>0</td>\n",
       "      <td>42</td>\n",
       "      <td>15427</td>\n",
       "      <td>9</td>\n",
       "      <td>2021-04-27 21:00:00</td>\n",
       "      <td>2</td>\n",
       "      <td>0</td>\n",
       "      <td>1</td>\n",
       "      <td>0</td>\n",
       "      <td>2</td>\n",
       "      <td>...</td>\n",
       "      <td>0</td>\n",
       "      <td>0</td>\n",
       "      <td>0</td>\n",
       "      <td>0</td>\n",
       "      <td>0</td>\n",
       "      <td>1</td>\n",
       "      <td>0</td>\n",
       "      <td>0</td>\n",
       "      <td>0</td>\n",
       "      <td>1</td>\n",
       "    </tr>\n",
       "  </tbody>\n",
       "</table>\n",
       "<p>5 rows × 133 columns</p>\n",
       "</div>"
      ],
      "text/plain": [
       "   light  region  address  category             datetime  severity  \\\n",
       "0      2      42     8706        10  2017-09-04 22:15:00         0   \n",
       "1      4      42    16864        16  2020-09-24 09:30:00         0   \n",
       "2      4      42     8706         9  2021-04-20 18:55:00         0   \n",
       "3      4      42    15435         9  2021-04-28 12:20:00         0   \n",
       "4      0      42    15427         9  2021-04-27 21:00:00         2   \n",
       "\n",
       "   dead_count  injured_count  parent_region  participants_count  ...  \\\n",
       "0           0              1              0                   2  ...   \n",
       "1           0              2              0                   3  ...   \n",
       "2           0              1              0                   2  ...   \n",
       "3           0              1              0                   2  ...   \n",
       "4           0              1              0                   2  ...   \n",
       "\n",
       "   road_conditions-37  road_conditions-19  road_conditions-40  \\\n",
       "0                   0                   0                   1   \n",
       "1                   0                   0                   0   \n",
       "2                   0                   0                   1   \n",
       "3                   0                   0                   1   \n",
       "4                   0                   0                   0   \n",
       "\n",
       "   road_conditions-27  participant_categories-0  participant_categories-5  \\\n",
       "0                   0                         0                         0   \n",
       "1                   0                         0                         0   \n",
       "2                   0                         0                         1   \n",
       "3                   0                         0                         1   \n",
       "4                   0                         0                         1   \n",
       "\n",
       "   participant_categories-2  participant_categories-3  \\\n",
       "0                         0                         0   \n",
       "1                         1                         0   \n",
       "2                         1                         0   \n",
       "3                         0                         0   \n",
       "4                         0                         0   \n",
       "\n",
       "   participant_categories-4  participant_categories-1  \n",
       "0                         0                         1  \n",
       "1                         0                         1  \n",
       "2                         0                         1  \n",
       "3                         0                         1  \n",
       "4                         0                         1  \n",
       "\n",
       "[5 rows x 133 columns]"
      ]
     },
     "execution_count": 3,
     "metadata": {},
     "output_type": "execute_result"
    }
   ],
   "source": [
    "df = pd.read_csv('./dataframe.csv').drop(['Unnamed: 0'], axis=1)\n",
    "df.head()"
   ]
  },
  {
   "cell_type": "markdown",
   "id": "715cc81c",
   "metadata": {},
   "source": [
    "# Task 1: Create new feature (index_)"
   ]
  },
  {
   "cell_type": "markdown",
   "id": "2b134efe",
   "metadata": {},
   "source": [
    "> index_ = h_address * most_common_severity_region / h_region"
   ]
  },
  {
   "cell_type": "code",
   "execution_count": 4,
   "id": "fef951b7",
   "metadata": {},
   "outputs": [],
   "source": [
    "df['index_'] = np.nan"
   ]
  },
  {
   "cell_type": "code",
   "execution_count": 5,
   "id": "84cdd2b1",
   "metadata": {},
   "outputs": [
    {
     "name": "stdout",
     "output_type": "stream",
     "text": [
      "unique:  17907 / 417518\n"
     ]
    }
   ],
   "source": [
    "print('unique: ', df['address'].nunique(), '/', df.shape[0])"
   ]
  },
  {
   "cell_type": "code",
   "execution_count": 6,
   "id": "9380dbab",
   "metadata": {},
   "outputs": [],
   "source": [
    "# index_ = h_address * most_common_severity_region / h_region\n",
    "\n",
    "h_region = {} \n",
    "h_address = {}\n",
    "most_common_severity_region = {}"
   ]
  },
  {
   "cell_type": "code",
   "execution_count": 7,
   "id": "b6fb186c",
   "metadata": {},
   "outputs": [],
   "source": [
    "def get_index(row):\n",
    "    return h_address[int(row['address'])] * most_common_severity_region[int(row['region'])] / h_region[int(row['region'])]"
   ]
  },
  {
   "cell_type": "code",
   "execution_count": 8,
   "id": "758a95c6",
   "metadata": {},
   "outputs": [
    {
     "name": "stderr",
     "output_type": "stream",
     "text": [
      "100%|██████████| 914/914 [00:00<00:00, 1114.22it/s]\n"
     ]
    }
   ],
   "source": [
    "for region in tqdm(df['region'].unique()):\n",
    "    h_region[region] = len(df[df['region'] == region].region.values) / df.shape[0]"
   ]
  },
  {
   "cell_type": "code",
   "execution_count": 9,
   "id": "ef14f902",
   "metadata": {},
   "outputs": [
    {
     "name": "stderr",
     "output_type": "stream",
     "text": [
      "100%|██████████| 17907/17907 [00:48<00:00, 369.74it/s]\n"
     ]
    }
   ],
   "source": [
    "for address in tqdm(df['address'].unique()):\n",
    "    h_address[address] = len(df[df['address'] == address].address.values) / len(df[df['region'] == df[df['address'] == address].region.values[0]].region.values)"
   ]
  },
  {
   "cell_type": "code",
   "execution_count": 10,
   "id": "95e90f55",
   "metadata": {},
   "outputs": [
    {
     "name": "stderr",
     "output_type": "stream",
     "text": [
      "100%|██████████| 914/914 [00:00<00:00, 1088.62it/s]\n"
     ]
    }
   ],
   "source": [
    "for region in tqdm(df['region'].unique()):\n",
    "    most_common_severity_region[region] = collections.Counter(df[df['region'] == region].severity.values).most_common(1)[0][1]"
   ]
  },
  {
   "cell_type": "code",
   "execution_count": 11,
   "id": "65804e14",
   "metadata": {
    "scrolled": true
   },
   "outputs": [
    {
     "name": "stderr",
     "output_type": "stream",
     "text": [
      "100%|██████████| 417518/417518 [00:55<00:00, 7507.60it/s]\n"
     ]
    }
   ],
   "source": [
    "index_data = []\n",
    "\n",
    "for i in tqdm(range(df.shape[0])):\n",
    "    index_data.append(get_index(df.iloc[i]))"
   ]
  },
  {
   "cell_type": "markdown",
   "id": "737bca87",
   "metadata": {},
   "source": [
    "Добавил новую фичу назвал ее index_ и заполнил его индексом который вычислил для каждого ДТП"
   ]
  },
  {
   "cell_type": "code",
   "execution_count": 12,
   "id": "11c56aaa",
   "metadata": {},
   "outputs": [],
   "source": [
    "df['index_'] = index_data"
   ]
  },
  {
   "cell_type": "code",
   "execution_count": 13,
   "id": "73fc0e48",
   "metadata": {
    "scrolled": true
   },
   "outputs": [
    {
     "data": {
      "text/html": [
       "<div>\n",
       "<style scoped>\n",
       "    .dataframe tbody tr th:only-of-type {\n",
       "        vertical-align: middle;\n",
       "    }\n",
       "\n",
       "    .dataframe tbody tr th {\n",
       "        vertical-align: top;\n",
       "    }\n",
       "\n",
       "    .dataframe thead th {\n",
       "        text-align: right;\n",
       "    }\n",
       "</style>\n",
       "<table border=\"1\" class=\"dataframe\">\n",
       "  <thead>\n",
       "    <tr style=\"text-align: right;\">\n",
       "      <th></th>\n",
       "      <th>light</th>\n",
       "      <th>region</th>\n",
       "      <th>address</th>\n",
       "      <th>category</th>\n",
       "      <th>datetime</th>\n",
       "      <th>severity</th>\n",
       "      <th>dead_count</th>\n",
       "      <th>injured_count</th>\n",
       "      <th>parent_region</th>\n",
       "      <th>participants_count</th>\n",
       "      <th>...</th>\n",
       "      <th>road_conditions-19</th>\n",
       "      <th>road_conditions-40</th>\n",
       "      <th>road_conditions-27</th>\n",
       "      <th>participant_categories-0</th>\n",
       "      <th>participant_categories-5</th>\n",
       "      <th>participant_categories-2</th>\n",
       "      <th>participant_categories-3</th>\n",
       "      <th>participant_categories-4</th>\n",
       "      <th>participant_categories-1</th>\n",
       "      <th>index_</th>\n",
       "    </tr>\n",
       "  </thead>\n",
       "  <tbody>\n",
       "    <tr>\n",
       "      <th>0</th>\n",
       "      <td>2</td>\n",
       "      <td>42</td>\n",
       "      <td>8706</td>\n",
       "      <td>10</td>\n",
       "      <td>2017-09-04 22:15:00</td>\n",
       "      <td>0</td>\n",
       "      <td>0</td>\n",
       "      <td>1</td>\n",
       "      <td>0</td>\n",
       "      <td>2</td>\n",
       "      <td>...</td>\n",
       "      <td>0</td>\n",
       "      <td>1</td>\n",
       "      <td>0</td>\n",
       "      <td>0</td>\n",
       "      <td>0</td>\n",
       "      <td>0</td>\n",
       "      <td>0</td>\n",
       "      <td>0</td>\n",
       "      <td>1</td>\n",
       "      <td>19072.718118</td>\n",
       "    </tr>\n",
       "    <tr>\n",
       "      <th>1</th>\n",
       "      <td>4</td>\n",
       "      <td>42</td>\n",
       "      <td>16864</td>\n",
       "      <td>16</td>\n",
       "      <td>2020-09-24 09:30:00</td>\n",
       "      <td>0</td>\n",
       "      <td>0</td>\n",
       "      <td>2</td>\n",
       "      <td>0</td>\n",
       "      <td>3</td>\n",
       "      <td>...</td>\n",
       "      <td>0</td>\n",
       "      <td>0</td>\n",
       "      <td>0</td>\n",
       "      <td>0</td>\n",
       "      <td>0</td>\n",
       "      <td>1</td>\n",
       "      <td>0</td>\n",
       "      <td>0</td>\n",
       "      <td>1</td>\n",
       "      <td>11808.694616</td>\n",
       "    </tr>\n",
       "    <tr>\n",
       "      <th>2</th>\n",
       "      <td>4</td>\n",
       "      <td>42</td>\n",
       "      <td>8706</td>\n",
       "      <td>9</td>\n",
       "      <td>2021-04-20 18:55:00</td>\n",
       "      <td>0</td>\n",
       "      <td>0</td>\n",
       "      <td>1</td>\n",
       "      <td>0</td>\n",
       "      <td>2</td>\n",
       "      <td>...</td>\n",
       "      <td>0</td>\n",
       "      <td>1</td>\n",
       "      <td>0</td>\n",
       "      <td>0</td>\n",
       "      <td>1</td>\n",
       "      <td>1</td>\n",
       "      <td>0</td>\n",
       "      <td>0</td>\n",
       "      <td>1</td>\n",
       "      <td>19072.718118</td>\n",
       "    </tr>\n",
       "    <tr>\n",
       "      <th>3</th>\n",
       "      <td>4</td>\n",
       "      <td>42</td>\n",
       "      <td>15435</td>\n",
       "      <td>9</td>\n",
       "      <td>2021-04-28 12:20:00</td>\n",
       "      <td>0</td>\n",
       "      <td>0</td>\n",
       "      <td>1</td>\n",
       "      <td>0</td>\n",
       "      <td>2</td>\n",
       "      <td>...</td>\n",
       "      <td>0</td>\n",
       "      <td>1</td>\n",
       "      <td>0</td>\n",
       "      <td>0</td>\n",
       "      <td>1</td>\n",
       "      <td>0</td>\n",
       "      <td>0</td>\n",
       "      <td>0</td>\n",
       "      <td>1</td>\n",
       "      <td>8791.331008</td>\n",
       "    </tr>\n",
       "    <tr>\n",
       "      <th>4</th>\n",
       "      <td>0</td>\n",
       "      <td>42</td>\n",
       "      <td>15427</td>\n",
       "      <td>9</td>\n",
       "      <td>2021-04-27 21:00:00</td>\n",
       "      <td>2</td>\n",
       "      <td>0</td>\n",
       "      <td>1</td>\n",
       "      <td>0</td>\n",
       "      <td>2</td>\n",
       "      <td>...</td>\n",
       "      <td>0</td>\n",
       "      <td>0</td>\n",
       "      <td>0</td>\n",
       "      <td>0</td>\n",
       "      <td>1</td>\n",
       "      <td>0</td>\n",
       "      <td>0</td>\n",
       "      <td>0</td>\n",
       "      <td>1</td>\n",
       "      <td>8828.582410</td>\n",
       "    </tr>\n",
       "  </tbody>\n",
       "</table>\n",
       "<p>5 rows × 134 columns</p>\n",
       "</div>"
      ],
      "text/plain": [
       "   light  region  address  category             datetime  severity  \\\n",
       "0      2      42     8706        10  2017-09-04 22:15:00         0   \n",
       "1      4      42    16864        16  2020-09-24 09:30:00         0   \n",
       "2      4      42     8706         9  2021-04-20 18:55:00         0   \n",
       "3      4      42    15435         9  2021-04-28 12:20:00         0   \n",
       "4      0      42    15427         9  2021-04-27 21:00:00         2   \n",
       "\n",
       "   dead_count  injured_count  parent_region  participants_count  ...  \\\n",
       "0           0              1              0                   2  ...   \n",
       "1           0              2              0                   3  ...   \n",
       "2           0              1              0                   2  ...   \n",
       "3           0              1              0                   2  ...   \n",
       "4           0              1              0                   2  ...   \n",
       "\n",
       "   road_conditions-19  road_conditions-40  road_conditions-27  \\\n",
       "0                   0                   1                   0   \n",
       "1                   0                   0                   0   \n",
       "2                   0                   1                   0   \n",
       "3                   0                   1                   0   \n",
       "4                   0                   0                   0   \n",
       "\n",
       "   participant_categories-0  participant_categories-5  \\\n",
       "0                         0                         0   \n",
       "1                         0                         0   \n",
       "2                         0                         1   \n",
       "3                         0                         1   \n",
       "4                         0                         1   \n",
       "\n",
       "   participant_categories-2  participant_categories-3  \\\n",
       "0                         0                         0   \n",
       "1                         1                         0   \n",
       "2                         1                         0   \n",
       "3                         0                         0   \n",
       "4                         0                         0   \n",
       "\n",
       "   participant_categories-4  participant_categories-1        index_  \n",
       "0                         0                         1  19072.718118  \n",
       "1                         0                         1  11808.694616  \n",
       "2                         0                         1  19072.718118  \n",
       "3                         0                         1   8791.331008  \n",
       "4                         0                         1   8828.582410  \n",
       "\n",
       "[5 rows x 134 columns]"
      ]
     },
     "execution_count": 13,
     "metadata": {},
     "output_type": "execute_result"
    }
   ],
   "source": [
    "df.head()"
   ]
  },
  {
   "cell_type": "markdown",
   "id": "6a2968b6",
   "metadata": {},
   "source": [
    "# Task 2: Clustering"
   ]
  },
  {
   "cell_type": "code",
   "execution_count": 14,
   "id": "7578f6e3",
   "metadata": {},
   "outputs": [],
   "source": [
    "X = df.drop(['datetime'], axis=1)\n",
    "X_std = preprocessing.StandardScaler().fit_transform(X)"
   ]
  },
  {
   "cell_type": "code",
   "execution_count": 15,
   "id": "97ee4180",
   "metadata": {},
   "outputs": [],
   "source": [
    "sizes = range(2, 6)\n",
    "figsize = (28, 15)"
   ]
  },
  {
   "cell_type": "markdown",
   "id": "b865d740",
   "metadata": {},
   "source": [
    "Для выбора модели я буду использовать две метрики:\n",
    "1. Индекс Калинского-Харабаза (синие графики) - чем выше показатель тем лучше\n",
    "2. Индекс Дэвиса болдина (оранжевые графики) - в идеале должен стремиться к нулю (0 = идельно)"
   ]
  },
  {
   "cell_type": "code",
   "execution_count": 16,
   "id": "2c434439",
   "metadata": {},
   "outputs": [
    {
     "name": "stderr",
     "output_type": "stream",
     "text": [
      "100%|██████████| 4/4 [01:36<00:00, 24.17s/it]"
     ]
    },
    {
     "name": "stdout",
     "output_type": "stream",
     "text": [
      "drow charts...\n"
     ]
    },
    {
     "name": "stderr",
     "output_type": "stream",
     "text": [
      "\n"
     ]
    },
    {
     "data": {
      "text/plain": [
       "array([[<AxesSubplot:xlabel='k'>, <AxesSubplot:xlabel='k'>],\n",
       "       [<AxesSubplot:xlabel='k'>, <AxesSubplot:xlabel='k'>]], dtype=object)"
      ]
     },
     "execution_count": 16,
     "metadata": {},
     "output_type": "execute_result"
    },
    {
     "data": {
      "image/png": "[encoded data removed]",
      "text/plain": [
       "<Figure size 2016x1080 with 4 Axes>"
      ]
     },
     "metadata": {
      "needs_background": "light"
     },
     "output_type": "display_data"
    }
   ],
   "source": [
    "# sils = []\n",
    "chs = []\n",
    "dbs = []\n",
    "\n",
    "for k in tqdm(sizes):\n",
    "    model = GaussianMixture(n_components=k, random_state=0)\n",
    "   \n",
    "    model.fit(X_std)\n",
    "    \n",
    "    predict = model.predict(X_std)\n",
    "\n",
    "    chs.append(\n",
    "        metrics.calinski_harabasz_score(X, predict)\n",
    "    )\n",
    "    dbs.append(\n",
    "        metrics.davies_bouldin_score(X, predict)\n",
    "    )\n",
    "\n",
    "print('drow charts...')\n",
    "fig, ax = plt.subplots(figsize=figsize)\n",
    "pd.DataFrame(\n",
    "    {\n",
    "        \"calinski\": chs,\n",
    "        \"davis\": dbs,\n",
    "        \"k\": sizes,\n",
    "    }\n",
    ").set_index('k').plot(ax=ax, subplots=True, layout=(2, 2))"
   ]
  },
  {
   "cell_type": "code",
   "execution_count": 17,
   "id": "7e2e7e76",
   "metadata": {},
   "outputs": [
    {
     "name": "stderr",
     "output_type": "stream",
     "text": [
      "100%|██████████| 4/4 [00:45<00:00, 11.41s/it]\n"
     ]
    },
    {
     "data": {
      "text/plain": [
       "array([[<AxesSubplot:xlabel='k'>, <AxesSubplot:xlabel='k'>],\n",
       "       [<AxesSubplot:xlabel='k'>, <AxesSubplot:xlabel='k'>]], dtype=object)"
      ]
     },
     "execution_count": 17,
     "metadata": {},
     "output_type": "execute_result"
    },
    {
     "data": {
      "image/png": "[encoded data removed]",
      "text/plain": [
       "<Figure size 2016x1080 with 4 Axes>"
      ]
     },
     "metadata": {
      "needs_background": "light"
     },
     "output_type": "display_data"
    }
   ],
   "source": [
    "# sils = []\n",
    "chs = []\n",
    "dbs = []\n",
    "\n",
    "for k in tqdm(sizes):\n",
    "    model = KMeans(n_clusters=k, random_state=0)\n",
    "    model.fit(X_std)\n",
    "    \n",
    "    predict = model.labels_\n",
    "\n",
    "    chs.append(\n",
    "        metrics.calinski_harabasz_score(X, predict)\n",
    "    )\n",
    "    dbs.append(\n",
    "        metrics.davies_bouldin_score(X, predict)\n",
    "    )\n",
    "\n",
    "fig, ax = plt.subplots(figsize=figsize)\n",
    "pd.DataFrame(\n",
    "    {\n",
    "        \"calinski\": chs,\n",
    "        \"davis\": dbs,\n",
    "        \"k\": sizes,\n",
    "    }\n",
    ").set_index('k').plot(ax=ax, subplots=True, layout=(2, 2))"
   ]
  },
  {
   "cell_type": "code",
   "execution_count": 18,
   "id": "421f1fbb",
   "metadata": {},
   "outputs": [
    {
     "name": "stderr",
     "output_type": "stream",
     "text": [
      "100%|██████████| 4/4 [00:08<00:00,  2.22s/it]\n"
     ]
    },
    {
     "data": {
      "text/plain": [
       "array([[<AxesSubplot:xlabel='k'>, <AxesSubplot:xlabel='k'>],\n",
       "       [<AxesSubplot:xlabel='k'>, <AxesSubplot:xlabel='k'>]], dtype=object)"
      ]
     },
     "execution_count": 18,
     "metadata": {},
     "output_type": "execute_result"
    },
    {
     "data": {
      "image/png": "[encoded data removed]",
      "text/plain": [
       "<Figure size 2016x1080 with 4 Axes>"
      ]
     },
     "metadata": {
      "needs_background": "light"
     },
     "output_type": "display_data"
    }
   ],
   "source": [
    "chs = []\n",
    "dbs = []\n",
    "\n",
    "for k in tqdm(sizes):\n",
    "    model = MiniBatchKMeans(n_clusters=k, random_state=0)\n",
    "    model.fit(X_std)\n",
    "    \n",
    "    predict = model.labels_\n",
    "\n",
    "    chs.append(\n",
    "        metrics.calinski_harabasz_score(X, predict)\n",
    "    )\n",
    "    dbs.append(\n",
    "        metrics.davies_bouldin_score(X, predict)\n",
    "    )\n",
    "\n",
    "fig, ax = plt.subplots(figsize=figsize)\n",
    "pd.DataFrame(\n",
    "    {\n",
    "        \"calinski\": chs,\n",
    "        \"davis\": dbs,\n",
    "        \"k\": sizes,\n",
    "    }\n",
    ").set_index('k').plot(ax=ax, subplots=True, layout=(2, 2))"
   ]
  },
  {
   "cell_type": "markdown",
   "id": "39f4c47e",
   "metadata": {},
   "source": [
    "Исходя из этих двух метрик которые я проверил на одинаковом наборе данных для всех моделей (KMeans, GaussianMixture, MiniBatchKMeans) показатели для разного кол-ва кластеров.\n",
    "В виду того что необходимо четкое кол-во кластеро (три) то по всем показателям метрик лучше всего себя показывает модель кластеризации MiniBatchKMeans"
   ]
  },
  {
   "cell_type": "markdown",
   "id": "59601485",
   "metadata": {},
   "source": [
    "Я выбираю модель MiniBatchKMeans для распределения ДТП по кластерам"
   ]
  },
  {
   "cell_type": "code",
   "execution_count": 19,
   "id": "d2d2e972",
   "metadata": {},
   "outputs": [
    {
     "data": {
      "text/plain": [
       "MiniBatchKMeans(n_clusters=3, random_state=0)"
      ]
     },
     "execution_count": 19,
     "metadata": {},
     "output_type": "execute_result"
    }
   ],
   "source": [
    "X = df.drop(['datetime'], axis=1)\n",
    "X_std = preprocessing.StandardScaler().fit_transform(X)\n",
    "\n",
    "model = MiniBatchKMeans(n_clusters=3, random_state=0)\n",
    "model.fit(X_std)"
   ]
  },
  {
   "cell_type": "code",
   "execution_count": 20,
   "id": "e65203be",
   "metadata": {},
   "outputs": [
    {
     "data": {
      "text/plain": [
       "array([2, 0, 1, ..., 0, 0, 0])"
      ]
     },
     "execution_count": 20,
     "metadata": {},
     "output_type": "execute_result"
    }
   ],
   "source": [
    "clusters = model.fit_predict(X_std)\n",
    "clusters"
   ]
  },
  {
   "cell_type": "code",
   "execution_count": 21,
   "id": "a34fb3dc",
   "metadata": {},
   "outputs": [],
   "source": [
    "df['cluster'] = clusters"
   ]
  },
  {
   "cell_type": "markdown",
   "id": "148650f1",
   "metadata": {},
   "source": [
    "Даем названия кластерам исходя из распределения данных"
   ]
  },
  {
   "cell_type": "code",
   "execution_count": 22,
   "id": "6ce2a076",
   "metadata": {
    "scrolled": true
   },
   "outputs": [
    {
     "data": {
      "text/plain": [
       "<AxesSubplot:>"
      ]
     },
     "execution_count": 22,
     "metadata": {},
     "output_type": "execute_result"
    },
    {
     "data": {
      "image/png": "[encoded data removed]",
      "text/plain": [
       "<Figure size 432x288 with 1 Axes>"
      ]
     },
     "metadata": {
      "needs_background": "light"
     },
     "output_type": "display_data"
    }
   ],
   "source": [
    "clusters_viz = dict(collections.Counter(clusters))\n",
    "viz = {}\n",
    "viz['Максимальная опасность'] = clusters_viz[2]\n",
    "viz['Угроза здоровью'] = clusters_viz[1]\n",
    "viz['Без угроз для здоровья'] = clusters_viz[0]\n",
    "\n",
    "def rename_col(x):\n",
    "    name = x\n",
    "    if x == 0:\n",
    "        name = 'Без угроз для здоровья'\n",
    "    elif x == 1:\n",
    "        name = 'Угроза здоровью'\n",
    "    elif x == 2:\n",
    "        name = 'Максимальная опасность'\n",
    "    \n",
    "    return name\n",
    "\n",
    "df['cluster'] = df['cluster'].apply(lambda x: rename_col(x))\n",
    "\n",
    "sns.barplot(data=pd.DataFrame([viz]))"
   ]
  },
  {
   "cell_type": "code",
   "execution_count": 23,
   "id": "9b7f4395",
   "metadata": {
    "scrolled": true
   },
   "outputs": [
    {
     "data": {
      "text/html": [
       "<div>\n",
       "<style scoped>\n",
       "    .dataframe tbody tr th:only-of-type {\n",
       "        vertical-align: middle;\n",
       "    }\n",
       "\n",
       "    .dataframe tbody tr th {\n",
       "        vertical-align: top;\n",
       "    }\n",
       "\n",
       "    .dataframe thead th {\n",
       "        text-align: right;\n",
       "    }\n",
       "</style>\n",
       "<table border=\"1\" class=\"dataframe\">\n",
       "  <thead>\n",
       "    <tr style=\"text-align: right;\">\n",
       "      <th></th>\n",
       "      <th>light</th>\n",
       "      <th>region</th>\n",
       "      <th>address</th>\n",
       "      <th>category</th>\n",
       "      <th>datetime</th>\n",
       "      <th>severity</th>\n",
       "      <th>dead_count</th>\n",
       "      <th>injured_count</th>\n",
       "      <th>parent_region</th>\n",
       "      <th>participants_count</th>\n",
       "      <th>...</th>\n",
       "      <th>road_conditions-40</th>\n",
       "      <th>road_conditions-27</th>\n",
       "      <th>participant_categories-0</th>\n",
       "      <th>participant_categories-5</th>\n",
       "      <th>participant_categories-2</th>\n",
       "      <th>participant_categories-3</th>\n",
       "      <th>participant_categories-4</th>\n",
       "      <th>participant_categories-1</th>\n",
       "      <th>index_</th>\n",
       "      <th>cluster</th>\n",
       "    </tr>\n",
       "  </thead>\n",
       "  <tbody>\n",
       "    <tr>\n",
       "      <th>0</th>\n",
       "      <td>2</td>\n",
       "      <td>42</td>\n",
       "      <td>8706</td>\n",
       "      <td>10</td>\n",
       "      <td>2017-09-04 22:15:00</td>\n",
       "      <td>0</td>\n",
       "      <td>0</td>\n",
       "      <td>1</td>\n",
       "      <td>0</td>\n",
       "      <td>2</td>\n",
       "      <td>...</td>\n",
       "      <td>1</td>\n",
       "      <td>0</td>\n",
       "      <td>0</td>\n",
       "      <td>0</td>\n",
       "      <td>0</td>\n",
       "      <td>0</td>\n",
       "      <td>0</td>\n",
       "      <td>1</td>\n",
       "      <td>19072.718118</td>\n",
       "      <td>Максимальная опасность</td>\n",
       "    </tr>\n",
       "    <tr>\n",
       "      <th>1</th>\n",
       "      <td>4</td>\n",
       "      <td>42</td>\n",
       "      <td>16864</td>\n",
       "      <td>16</td>\n",
       "      <td>2020-09-24 09:30:00</td>\n",
       "      <td>0</td>\n",
       "      <td>0</td>\n",
       "      <td>2</td>\n",
       "      <td>0</td>\n",
       "      <td>3</td>\n",
       "      <td>...</td>\n",
       "      <td>0</td>\n",
       "      <td>0</td>\n",
       "      <td>0</td>\n",
       "      <td>0</td>\n",
       "      <td>1</td>\n",
       "      <td>0</td>\n",
       "      <td>0</td>\n",
       "      <td>1</td>\n",
       "      <td>11808.694616</td>\n",
       "      <td>Без угроз для здоровья</td>\n",
       "    </tr>\n",
       "    <tr>\n",
       "      <th>2</th>\n",
       "      <td>4</td>\n",
       "      <td>42</td>\n",
       "      <td>8706</td>\n",
       "      <td>9</td>\n",
       "      <td>2021-04-20 18:55:00</td>\n",
       "      <td>0</td>\n",
       "      <td>0</td>\n",
       "      <td>1</td>\n",
       "      <td>0</td>\n",
       "      <td>2</td>\n",
       "      <td>...</td>\n",
       "      <td>1</td>\n",
       "      <td>0</td>\n",
       "      <td>0</td>\n",
       "      <td>1</td>\n",
       "      <td>1</td>\n",
       "      <td>0</td>\n",
       "      <td>0</td>\n",
       "      <td>1</td>\n",
       "      <td>19072.718118</td>\n",
       "      <td>Угроза здоровью</td>\n",
       "    </tr>\n",
       "    <tr>\n",
       "      <th>3</th>\n",
       "      <td>4</td>\n",
       "      <td>42</td>\n",
       "      <td>15435</td>\n",
       "      <td>9</td>\n",
       "      <td>2021-04-28 12:20:00</td>\n",
       "      <td>0</td>\n",
       "      <td>0</td>\n",
       "      <td>1</td>\n",
       "      <td>0</td>\n",
       "      <td>2</td>\n",
       "      <td>...</td>\n",
       "      <td>1</td>\n",
       "      <td>0</td>\n",
       "      <td>0</td>\n",
       "      <td>1</td>\n",
       "      <td>0</td>\n",
       "      <td>0</td>\n",
       "      <td>0</td>\n",
       "      <td>1</td>\n",
       "      <td>8791.331008</td>\n",
       "      <td>Без угроз для здоровья</td>\n",
       "    </tr>\n",
       "    <tr>\n",
       "      <th>4</th>\n",
       "      <td>0</td>\n",
       "      <td>42</td>\n",
       "      <td>15427</td>\n",
       "      <td>9</td>\n",
       "      <td>2021-04-27 21:00:00</td>\n",
       "      <td>2</td>\n",
       "      <td>0</td>\n",
       "      <td>1</td>\n",
       "      <td>0</td>\n",
       "      <td>2</td>\n",
       "      <td>...</td>\n",
       "      <td>0</td>\n",
       "      <td>0</td>\n",
       "      <td>0</td>\n",
       "      <td>1</td>\n",
       "      <td>0</td>\n",
       "      <td>0</td>\n",
       "      <td>0</td>\n",
       "      <td>1</td>\n",
       "      <td>8828.582410</td>\n",
       "      <td>Без угроз для здоровья</td>\n",
       "    </tr>\n",
       "  </tbody>\n",
       "</table>\n",
       "<p>5 rows × 135 columns</p>\n",
       "</div>"
      ],
      "text/plain": [
       "   light  region  address  category             datetime  severity  \\\n",
       "0      2      42     8706        10  2017-09-04 22:15:00         0   \n",
       "1      4      42    16864        16  2020-09-24 09:30:00         0   \n",
       "2      4      42     8706         9  2021-04-20 18:55:00         0   \n",
       "3      4      42    15435         9  2021-04-28 12:20:00         0   \n",
       "4      0      42    15427         9  2021-04-27 21:00:00         2   \n",
       "\n",
       "   dead_count  injured_count  parent_region  participants_count  ...  \\\n",
       "0           0              1              0                   2  ...   \n",
       "1           0              2              0                   3  ...   \n",
       "2           0              1              0                   2  ...   \n",
       "3           0              1              0                   2  ...   \n",
       "4           0              1              0                   2  ...   \n",
       "\n",
       "   road_conditions-40  road_conditions-27  participant_categories-0  \\\n",
       "0                   1                   0                         0   \n",
       "1                   0                   0                         0   \n",
       "2                   1                   0                         0   \n",
       "3                   1                   0                         0   \n",
       "4                   0                   0                         0   \n",
       "\n",
       "   participant_categories-5  participant_categories-2  \\\n",
       "0                         0                         0   \n",
       "1                         0                         1   \n",
       "2                         1                         1   \n",
       "3                         1                         0   \n",
       "4                         1                         0   \n",
       "\n",
       "   participant_categories-3  participant_categories-4  \\\n",
       "0                         0                         0   \n",
       "1                         0                         0   \n",
       "2                         0                         0   \n",
       "3                         0                         0   \n",
       "4                         0                         0   \n",
       "\n",
       "   participant_categories-1        index_                 cluster  \n",
       "0                         1  19072.718118  Максимальная опасность  \n",
       "1                         1  11808.694616  Без угроз для здоровья  \n",
       "2                         1  19072.718118         Угроза здоровью  \n",
       "3                         1   8791.331008  Без угроз для здоровья  \n",
       "4                         1   8828.582410  Без угроз для здоровья  \n",
       "\n",
       "[5 rows x 135 columns]"
      ]
     },
     "execution_count": 23,
     "metadata": {},
     "output_type": "execute_result"
    }
   ],
   "source": [
    "df.head()"
   ]
  },
  {
   "cell_type": "markdown",
   "id": "af592efc",
   "metadata": {},
   "source": [
    "# Task 3: Train & Test split dataset"
   ]
  },
  {
   "cell_type": "markdown",
   "id": "129fe8b5",
   "metadata": {},
   "source": [
    "Перемешать датасет чтобы было разнообразнее"
   ]
  },
  {
   "cell_type": "code",
   "execution_count": 24,
   "id": "0b1b27d0",
   "metadata": {},
   "outputs": [],
   "source": [
    "df = df.sample(frac=1).reset_index(drop=True)"
   ]
  },
  {
   "cell_type": "markdown",
   "id": "e560cdfa",
   "metadata": {},
   "source": [
    "Разделить на целевую переменную и данные"
   ]
  },
  {
   "cell_type": "code",
   "execution_count": 25,
   "id": "8eb0fec7",
   "metadata": {},
   "outputs": [],
   "source": [
    "X = df.drop('cluster', axis=1)\n",
    "y = df['cluster']"
   ]
  },
  {
   "cell_type": "markdown",
   "id": "2aa817cf",
   "metadata": {},
   "source": [
    "Разбить датасет на тестовую и обучающую выборки"
   ]
  },
  {
   "cell_type": "code",
   "execution_count": 32,
   "id": "5ffd4e37",
   "metadata": {},
   "outputs": [],
   "source": [
    "X_train, X_test, y_train, y_test = train_test_split(X, y, test_size=0.33, random_state=0)"
   ]
  },
  {
   "cell_type": "code",
   "execution_count": 33,
   "id": "02ec3525",
   "metadata": {},
   "outputs": [],
   "source": [
    "X_train['cluster'] = y_train\n",
    "df_train = X_train"
   ]
  },
  {
   "cell_type": "code",
   "execution_count": 34,
   "id": "8cbf98ab",
   "metadata": {},
   "outputs": [],
   "source": [
    "X_test['cluster'] = y_test\n",
    "df_test = X_test"
   ]
  },
  {
   "cell_type": "markdown",
   "id": "e3febc1e",
   "metadata": {},
   "source": [
    "Результат осталось сохранить"
   ]
  },
  {
   "cell_type": "code",
   "execution_count": 35,
   "id": "9912fe06",
   "metadata": {},
   "outputs": [
    {
     "data": {
      "text/html": [
       "<div>\n",
       "<style scoped>\n",
       "    .dataframe tbody tr th:only-of-type {\n",
       "        vertical-align: middle;\n",
       "    }\n",
       "\n",
       "    .dataframe tbody tr th {\n",
       "        vertical-align: top;\n",
       "    }\n",
       "\n",
       "    .dataframe thead th {\n",
       "        text-align: right;\n",
       "    }\n",
       "</style>\n",
       "<table border=\"1\" class=\"dataframe\">\n",
       "  <thead>\n",
       "    <tr style=\"text-align: right;\">\n",
       "      <th></th>\n",
       "      <th>light</th>\n",
       "      <th>region</th>\n",
       "      <th>address</th>\n",
       "      <th>category</th>\n",
       "      <th>datetime</th>\n",
       "      <th>severity</th>\n",
       "      <th>dead_count</th>\n",
       "      <th>injured_count</th>\n",
       "      <th>parent_region</th>\n",
       "      <th>participants_count</th>\n",
       "      <th>...</th>\n",
       "      <th>road_conditions-40</th>\n",
       "      <th>road_conditions-27</th>\n",
       "      <th>participant_categories-0</th>\n",
       "      <th>participant_categories-5</th>\n",
       "      <th>participant_categories-2</th>\n",
       "      <th>participant_categories-3</th>\n",
       "      <th>participant_categories-4</th>\n",
       "      <th>participant_categories-1</th>\n",
       "      <th>index_</th>\n",
       "      <th>cluster</th>\n",
       "    </tr>\n",
       "  </thead>\n",
       "  <tbody>\n",
       "    <tr>\n",
       "      <th>33966</th>\n",
       "      <td>0</td>\n",
       "      <td>749</td>\n",
       "      <td>12385</td>\n",
       "      <td>10</td>\n",
       "      <td>2016-09-28 04:00:00</td>\n",
       "      <td>0</td>\n",
       "      <td>0</td>\n",
       "      <td>1</td>\n",
       "      <td>12</td>\n",
       "      <td>2</td>\n",
       "      <td>...</td>\n",
       "      <td>1</td>\n",
       "      <td>0</td>\n",
       "      <td>0</td>\n",
       "      <td>0</td>\n",
       "      <td>0</td>\n",
       "      <td>0</td>\n",
       "      <td>0</td>\n",
       "      <td>1</td>\n",
       "      <td>1.499656e+04</td>\n",
       "      <td>Без угроз для здоровья</td>\n",
       "    </tr>\n",
       "    <tr>\n",
       "      <th>293924</th>\n",
       "      <td>2</td>\n",
       "      <td>532</td>\n",
       "      <td>8051</td>\n",
       "      <td>12</td>\n",
       "      <td>2017-04-17 22:00:00</td>\n",
       "      <td>0</td>\n",
       "      <td>0</td>\n",
       "      <td>1</td>\n",
       "      <td>29</td>\n",
       "      <td>2</td>\n",
       "      <td>...</td>\n",
       "      <td>0</td>\n",
       "      <td>0</td>\n",
       "      <td>0</td>\n",
       "      <td>0</td>\n",
       "      <td>0</td>\n",
       "      <td>1</td>\n",
       "      <td>0</td>\n",
       "      <td>1</td>\n",
       "      <td>4.784584e+03</td>\n",
       "      <td>Без угроз для здоровья</td>\n",
       "    </tr>\n",
       "    <tr>\n",
       "      <th>201937</th>\n",
       "      <td>0</td>\n",
       "      <td>92</td>\n",
       "      <td>1393</td>\n",
       "      <td>15</td>\n",
       "      <td>2019-10-28 23:50:00</td>\n",
       "      <td>2</td>\n",
       "      <td>0</td>\n",
       "      <td>1</td>\n",
       "      <td>9</td>\n",
       "      <td>3</td>\n",
       "      <td>...</td>\n",
       "      <td>0</td>\n",
       "      <td>0</td>\n",
       "      <td>0</td>\n",
       "      <td>0</td>\n",
       "      <td>0</td>\n",
       "      <td>0</td>\n",
       "      <td>0</td>\n",
       "      <td>1</td>\n",
       "      <td>3.194049e+06</td>\n",
       "      <td>Без угроз для здоровья</td>\n",
       "    </tr>\n",
       "    <tr>\n",
       "      <th>169377</th>\n",
       "      <td>2</td>\n",
       "      <td>297</td>\n",
       "      <td>16735</td>\n",
       "      <td>11</td>\n",
       "      <td>2019-12-14 07:40:00</td>\n",
       "      <td>2</td>\n",
       "      <td>0</td>\n",
       "      <td>1</td>\n",
       "      <td>12</td>\n",
       "      <td>3</td>\n",
       "      <td>...</td>\n",
       "      <td>1</td>\n",
       "      <td>0</td>\n",
       "      <td>0</td>\n",
       "      <td>1</td>\n",
       "      <td>0</td>\n",
       "      <td>0</td>\n",
       "      <td>0</td>\n",
       "      <td>1</td>\n",
       "      <td>3.930857e+03</td>\n",
       "      <td>Без угроз для здоровья</td>\n",
       "    </tr>\n",
       "    <tr>\n",
       "      <th>370605</th>\n",
       "      <td>4</td>\n",
       "      <td>123</td>\n",
       "      <td>7329</td>\n",
       "      <td>16</td>\n",
       "      <td>2018-09-13 19:15:00</td>\n",
       "      <td>0</td>\n",
       "      <td>0</td>\n",
       "      <td>1</td>\n",
       "      <td>7</td>\n",
       "      <td>2</td>\n",
       "      <td>...</td>\n",
       "      <td>1</td>\n",
       "      <td>0</td>\n",
       "      <td>0</td>\n",
       "      <td>0</td>\n",
       "      <td>0</td>\n",
       "      <td>0</td>\n",
       "      <td>0</td>\n",
       "      <td>1</td>\n",
       "      <td>1.111433e+05</td>\n",
       "      <td>Без угроз для здоровья</td>\n",
       "    </tr>\n",
       "  </tbody>\n",
       "</table>\n",
       "<p>5 rows × 135 columns</p>\n",
       "</div>"
      ],
      "text/plain": [
       "        light  region  address  category             datetime  severity  \\\n",
       "33966       0     749    12385        10  2016-09-28 04:00:00         0   \n",
       "293924      2     532     8051        12  2017-04-17 22:00:00         0   \n",
       "201937      0      92     1393        15  2019-10-28 23:50:00         2   \n",
       "169377      2     297    16735        11  2019-12-14 07:40:00         2   \n",
       "370605      4     123     7329        16  2018-09-13 19:15:00         0   \n",
       "\n",
       "        dead_count  injured_count  parent_region  participants_count  ...  \\\n",
       "33966            0              1             12                   2  ...   \n",
       "293924           0              1             29                   2  ...   \n",
       "201937           0              1              9                   3  ...   \n",
       "169377           0              1             12                   3  ...   \n",
       "370605           0              1              7                   2  ...   \n",
       "\n",
       "        road_conditions-40  road_conditions-27  participant_categories-0  \\\n",
       "33966                    1                   0                         0   \n",
       "293924                   0                   0                         0   \n",
       "201937                   0                   0                         0   \n",
       "169377                   1                   0                         0   \n",
       "370605                   1                   0                         0   \n",
       "\n",
       "        participant_categories-5  participant_categories-2  \\\n",
       "33966                          0                         0   \n",
       "293924                         0                         0   \n",
       "201937                         0                         0   \n",
       "169377                         1                         0   \n",
       "370605                         0                         0   \n",
       "\n",
       "        participant_categories-3  participant_categories-4  \\\n",
       "33966                          0                         0   \n",
       "293924                         1                         0   \n",
       "201937                         0                         0   \n",
       "169377                         0                         0   \n",
       "370605                         0                         0   \n",
       "\n",
       "        participant_categories-1        index_                 cluster  \n",
       "33966                          1  1.499656e+04  Без угроз для здоровья  \n",
       "293924                         1  4.784584e+03  Без угроз для здоровья  \n",
       "201937                         1  3.194049e+06  Без угроз для здоровья  \n",
       "169377                         1  3.930857e+03  Без угроз для здоровья  \n",
       "370605                         1  1.111433e+05  Без угроз для здоровья  \n",
       "\n",
       "[5 rows x 135 columns]"
      ]
     },
     "execution_count": 35,
     "metadata": {},
     "output_type": "execute_result"
    }
   ],
   "source": [
    "df_train.head()"
   ]
  },
  {
   "cell_type": "code",
   "execution_count": 36,
   "id": "97ae55a0",
   "metadata": {},
   "outputs": [
    {
     "data": {
      "text/html": [
       "<div>\n",
       "<style scoped>\n",
       "    .dataframe tbody tr th:only-of-type {\n",
       "        vertical-align: middle;\n",
       "    }\n",
       "\n",
       "    .dataframe tbody tr th {\n",
       "        vertical-align: top;\n",
       "    }\n",
       "\n",
       "    .dataframe thead th {\n",
       "        text-align: right;\n",
       "    }\n",
       "</style>\n",
       "<table border=\"1\" class=\"dataframe\">\n",
       "  <thead>\n",
       "    <tr style=\"text-align: right;\">\n",
       "      <th></th>\n",
       "      <th>light</th>\n",
       "      <th>region</th>\n",
       "      <th>address</th>\n",
       "      <th>category</th>\n",
       "      <th>datetime</th>\n",
       "      <th>severity</th>\n",
       "      <th>dead_count</th>\n",
       "      <th>injured_count</th>\n",
       "      <th>parent_region</th>\n",
       "      <th>participants_count</th>\n",
       "      <th>...</th>\n",
       "      <th>road_conditions-40</th>\n",
       "      <th>road_conditions-27</th>\n",
       "      <th>participant_categories-0</th>\n",
       "      <th>participant_categories-5</th>\n",
       "      <th>participant_categories-2</th>\n",
       "      <th>participant_categories-3</th>\n",
       "      <th>participant_categories-4</th>\n",
       "      <th>participant_categories-1</th>\n",
       "      <th>index_</th>\n",
       "      <th>cluster</th>\n",
       "    </tr>\n",
       "  </thead>\n",
       "  <tbody>\n",
       "    <tr>\n",
       "      <th>22628</th>\n",
       "      <td>4</td>\n",
       "      <td>413</td>\n",
       "      <td>1677</td>\n",
       "      <td>16</td>\n",
       "      <td>2020-09-12 11:20:00</td>\n",
       "      <td>2</td>\n",
       "      <td>0</td>\n",
       "      <td>1</td>\n",
       "      <td>25</td>\n",
       "      <td>3</td>\n",
       "      <td>...</td>\n",
       "      <td>1</td>\n",
       "      <td>0</td>\n",
       "      <td>0</td>\n",
       "      <td>0</td>\n",
       "      <td>0</td>\n",
       "      <td>0</td>\n",
       "      <td>0</td>\n",
       "      <td>1</td>\n",
       "      <td>5.678462e+05</td>\n",
       "      <td>Без угроз для здоровья</td>\n",
       "    </tr>\n",
       "    <tr>\n",
       "      <th>168734</th>\n",
       "      <td>4</td>\n",
       "      <td>268</td>\n",
       "      <td>14729</td>\n",
       "      <td>16</td>\n",
       "      <td>2017-05-16 16:16:00</td>\n",
       "      <td>0</td>\n",
       "      <td>0</td>\n",
       "      <td>1</td>\n",
       "      <td>16</td>\n",
       "      <td>2</td>\n",
       "      <td>...</td>\n",
       "      <td>1</td>\n",
       "      <td>0</td>\n",
       "      <td>0</td>\n",
       "      <td>0</td>\n",
       "      <td>0</td>\n",
       "      <td>0</td>\n",
       "      <td>0</td>\n",
       "      <td>1</td>\n",
       "      <td>9.369585e+03</td>\n",
       "      <td>Без угроз для здоровья</td>\n",
       "    </tr>\n",
       "    <tr>\n",
       "      <th>67828</th>\n",
       "      <td>0</td>\n",
       "      <td>880</td>\n",
       "      <td>4891</td>\n",
       "      <td>9</td>\n",
       "      <td>2016-10-07 23:45:00</td>\n",
       "      <td>2</td>\n",
       "      <td>0</td>\n",
       "      <td>1</td>\n",
       "      <td>29</td>\n",
       "      <td>2</td>\n",
       "      <td>...</td>\n",
       "      <td>0</td>\n",
       "      <td>0</td>\n",
       "      <td>0</td>\n",
       "      <td>1</td>\n",
       "      <td>0</td>\n",
       "      <td>0</td>\n",
       "      <td>0</td>\n",
       "      <td>1</td>\n",
       "      <td>2.750318e+04</td>\n",
       "      <td>Без угроз для здоровья</td>\n",
       "    </tr>\n",
       "    <tr>\n",
       "      <th>363613</th>\n",
       "      <td>4</td>\n",
       "      <td>134</td>\n",
       "      <td>11919</td>\n",
       "      <td>16</td>\n",
       "      <td>2015-05-21 16:40:00</td>\n",
       "      <td>2</td>\n",
       "      <td>0</td>\n",
       "      <td>1</td>\n",
       "      <td>9</td>\n",
       "      <td>2</td>\n",
       "      <td>...</td>\n",
       "      <td>1</td>\n",
       "      <td>0</td>\n",
       "      <td>0</td>\n",
       "      <td>0</td>\n",
       "      <td>0</td>\n",
       "      <td>1</td>\n",
       "      <td>0</td>\n",
       "      <td>1</td>\n",
       "      <td>5.256647e+04</td>\n",
       "      <td>Без угроз для здоровья</td>\n",
       "    </tr>\n",
       "    <tr>\n",
       "      <th>70372</th>\n",
       "      <td>4</td>\n",
       "      <td>142</td>\n",
       "      <td>2009</td>\n",
       "      <td>12</td>\n",
       "      <td>2015-07-18 17:10:00</td>\n",
       "      <td>2</td>\n",
       "      <td>0</td>\n",
       "      <td>1</td>\n",
       "      <td>25</td>\n",
       "      <td>2</td>\n",
       "      <td>...</td>\n",
       "      <td>1</td>\n",
       "      <td>0</td>\n",
       "      <td>0</td>\n",
       "      <td>0</td>\n",
       "      <td>0</td>\n",
       "      <td>1</td>\n",
       "      <td>0</td>\n",
       "      <td>1</td>\n",
       "      <td>4.944898e+06</td>\n",
       "      <td>Без угроз для здоровья</td>\n",
       "    </tr>\n",
       "  </tbody>\n",
       "</table>\n",
       "<p>5 rows × 135 columns</p>\n",
       "</div>"
      ],
      "text/plain": [
       "        light  region  address  category             datetime  severity  \\\n",
       "22628       4     413     1677        16  2020-09-12 11:20:00         2   \n",
       "168734      4     268    14729        16  2017-05-16 16:16:00         0   \n",
       "67828       0     880     4891         9  2016-10-07 23:45:00         2   \n",
       "363613      4     134    11919        16  2015-05-21 16:40:00         2   \n",
       "70372       4     142     2009        12  2015-07-18 17:10:00         2   \n",
       "\n",
       "        dead_count  injured_count  parent_region  participants_count  ...  \\\n",
       "22628            0              1             25                   3  ...   \n",
       "168734           0              1             16                   2  ...   \n",
       "67828            0              1             29                   2  ...   \n",
       "363613           0              1              9                   2  ...   \n",
       "70372            0              1             25                   2  ...   \n",
       "\n",
       "        road_conditions-40  road_conditions-27  participant_categories-0  \\\n",
       "22628                    1                   0                         0   \n",
       "168734                   1                   0                         0   \n",
       "67828                    0                   0                         0   \n",
       "363613                   1                   0                         0   \n",
       "70372                    1                   0                         0   \n",
       "\n",
       "        participant_categories-5  participant_categories-2  \\\n",
       "22628                          0                         0   \n",
       "168734                         0                         0   \n",
       "67828                          1                         0   \n",
       "363613                         0                         0   \n",
       "70372                          0                         0   \n",
       "\n",
       "        participant_categories-3  participant_categories-4  \\\n",
       "22628                          0                         0   \n",
       "168734                         0                         0   \n",
       "67828                          0                         0   \n",
       "363613                         1                         0   \n",
       "70372                          1                         0   \n",
       "\n",
       "        participant_categories-1        index_                 cluster  \n",
       "22628                          1  5.678462e+05  Без угроз для здоровья  \n",
       "168734                         1  9.369585e+03  Без угроз для здоровья  \n",
       "67828                          1  2.750318e+04  Без угроз для здоровья  \n",
       "363613                         1  5.256647e+04  Без угроз для здоровья  \n",
       "70372                          1  4.944898e+06  Без угроз для здоровья  \n",
       "\n",
       "[5 rows x 135 columns]"
      ]
     },
     "execution_count": 36,
     "metadata": {},
     "output_type": "execute_result"
    }
   ],
   "source": [
    "df_test.head()"
   ]
  },
  {
   "cell_type": "markdown",
   "id": "be352f18",
   "metadata": {},
   "source": [
    "# Task 4: Export datasets"
   ]
  },
  {
   "cell_type": "code",
   "execution_count": 38,
   "id": "dc8d8768",
   "metadata": {},
   "outputs": [],
   "source": [
    "df.to_csv(\"dataset.csv\")\n",
    "df_train.to_csv(\"train_df.csv\")\n",
    "df_test.to_csv(\"test_df.csv\")"
   ]
  }
 ],
 "metadata": {
  "kernelspec": {
   "display_name": "Python 3 (ipykernel)",
   "language": "python",
   "name": "python3"
  },
  "language_info": {
   "codemirror_mode": {
    "name": "ipython",
    "version": 3
   },
   "file_extension": ".py",
   "mimetype": "text/x-python",
   "name": "python",
   "nbconvert_exporter": "python",
   "pygments_lexer": "ipython3",
   "version": "3.9.7"
  }
 },
 "nbformat": 4,
 "nbformat_minor": 5
}
